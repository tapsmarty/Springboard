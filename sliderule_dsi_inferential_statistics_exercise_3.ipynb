{
 "cells": [
  {
   "cell_type": "markdown",
   "metadata": {},
   "source": [
    "# Hospital Readmissions Data Analysis and Recommendations for Reduction\n",
    "\n",
    "### Background\n",
    "In October 2012, the US government's Center for Medicare and Medicaid Services (CMS) began reducing Medicare payments for Inpatient Prospective Payment System hospitals with excess readmissions. Excess readmissions are measured by a ratio, by dividing a hospital’s number of “predicted” 30-day readmissions for heart attack, heart failure, and pneumonia by the number that would be “expected,” based on an average hospital with similar patients. A ratio greater than 1 indicates excess readmissions.\n",
    "\n",
    "### Exercise Directions\n",
    "\n",
    "In this exercise, you will:\n",
    "+ critique a preliminary analysis of readmissions data and recommendations (provided below) for reducing the readmissions rate\n",
    "+ construct a statistically sound analysis and make recommendations of your own \n",
    "\n",
    "More instructions provided below. Include your work **in this notebook and submit to your Github account**. \n",
    "\n",
    "### Resources\n",
    "+ Data source: https://data.medicare.gov/Hospital-Compare/Hospital-Readmission-Reduction/9n3s-kdb3\n",
    "+ More information: http://www.cms.gov/Medicare/medicare-fee-for-service-payment/acuteinpatientPPS/readmissions-reduction-program.html\n",
    "+ Markdown syntax: http://nestacms.com/docs/creating-content/markdown-cheat-sheet\n",
    "****"
   ]
  },
  {
   "cell_type": "code",
   "execution_count": 45,
   "metadata": {},
   "outputs": [],
   "source": [
    "%matplotlib inline\n",
    "\n",
    "import pandas as pd\n",
    "import numpy as np\n",
    "import matplotlib.pyplot as plt\n",
    "import bokeh.plotting as bkp\n",
    "from mpl_toolkits.axes_grid1 import make_axes_locatable"
   ]
  },
  {
   "cell_type": "code",
   "execution_count": 46,
   "metadata": {},
   "outputs": [],
   "source": [
    "# read in readmissions data provided\n",
    "hospital_read_df = pd.read_csv('data/cms_hospital_readmissions.csv')"
   ]
  },
  {
   "cell_type": "markdown",
   "metadata": {},
   "source": [
    "****\n",
    "## Preliminary Analysis"
   ]
  },
  {
   "cell_type": "code",
   "execution_count": 47,
   "metadata": {},
   "outputs": [
    {
     "name": "stderr",
     "output_type": "stream",
     "text": [
      "/anaconda/lib/python3.6/site-packages/pandas/core/indexing.py:517: SettingWithCopyWarning: \n",
      "A value is trying to be set on a copy of a slice from a DataFrame.\n",
      "Try using .loc[row_indexer,col_indexer] = value instead\n",
      "\n",
      "See the caveats in the documentation: http://pandas.pydata.org/pandas-docs/stable/indexing.html#indexing-view-versus-copy\n",
      "  self.obj[item] = s\n"
     ]
    },
    {
     "data": {
      "text/html": [
       "<div>\n",
       "<style>\n",
       "    .dataframe thead tr:only-child th {\n",
       "        text-align: right;\n",
       "    }\n",
       "\n",
       "    .dataframe thead th {\n",
       "        text-align: left;\n",
       "    }\n",
       "\n",
       "    .dataframe tbody tr th {\n",
       "        vertical-align: top;\n",
       "    }\n",
       "</style>\n",
       "<table border=\"1\" class=\"dataframe\">\n",
       "  <thead>\n",
       "    <tr style=\"text-align: right;\">\n",
       "      <th></th>\n",
       "      <th>Hospital Name</th>\n",
       "      <th>Provider Number</th>\n",
       "      <th>State</th>\n",
       "      <th>Measure Name</th>\n",
       "      <th>Number of Discharges</th>\n",
       "      <th>Footnote</th>\n",
       "      <th>Excess Readmission Ratio</th>\n",
       "      <th>Predicted Readmission Rate</th>\n",
       "      <th>Expected Readmission Rate</th>\n",
       "      <th>Number of Readmissions</th>\n",
       "      <th>Start Date</th>\n",
       "      <th>End Date</th>\n",
       "    </tr>\n",
       "  </thead>\n",
       "  <tbody>\n",
       "    <tr>\n",
       "      <th>0</th>\n",
       "      <td>FROEDTERT MEMORIAL LUTHERAN HOSPITAL</td>\n",
       "      <td>520177</td>\n",
       "      <td>WI</td>\n",
       "      <td>READM-30-HIP-KNEE-HRRP</td>\n",
       "      <td>242</td>\n",
       "      <td>NaN</td>\n",
       "      <td>1.9095</td>\n",
       "      <td>10.8</td>\n",
       "      <td>5.6</td>\n",
       "      <td>38.0</td>\n",
       "      <td>07/01/2010</td>\n",
       "      <td>06/30/2013</td>\n",
       "    </tr>\n",
       "    <tr>\n",
       "      <th>1</th>\n",
       "      <td>PROVIDENCE HOSPITAL</td>\n",
       "      <td>90006</td>\n",
       "      <td>DC</td>\n",
       "      <td>READM-30-HIP-KNEE-HRRP</td>\n",
       "      <td>247</td>\n",
       "      <td>NaN</td>\n",
       "      <td>1.7521</td>\n",
       "      <td>9.2</td>\n",
       "      <td>5.3</td>\n",
       "      <td>33.0</td>\n",
       "      <td>07/01/2010</td>\n",
       "      <td>06/30/2013</td>\n",
       "    </tr>\n",
       "    <tr>\n",
       "      <th>2</th>\n",
       "      <td>BEAUFORT COUNTY MEMORIAL HOSPITAL</td>\n",
       "      <td>420067</td>\n",
       "      <td>SC</td>\n",
       "      <td>READM-30-HIP-KNEE-HRRP</td>\n",
       "      <td>586</td>\n",
       "      <td>NaN</td>\n",
       "      <td>1.5836</td>\n",
       "      <td>7.6</td>\n",
       "      <td>4.8</td>\n",
       "      <td>53.0</td>\n",
       "      <td>07/01/2010</td>\n",
       "      <td>06/30/2013</td>\n",
       "    </tr>\n",
       "    <tr>\n",
       "      <th>3</th>\n",
       "      <td>ADVOCATE CHRIST HOSPITAL &amp; MEDICAL CENTER</td>\n",
       "      <td>140208</td>\n",
       "      <td>IL</td>\n",
       "      <td>READM-30-HIP-KNEE-HRRP</td>\n",
       "      <td>965</td>\n",
       "      <td>NaN</td>\n",
       "      <td>1.5760</td>\n",
       "      <td>9.0</td>\n",
       "      <td>5.7</td>\n",
       "      <td>95.0</td>\n",
       "      <td>07/01/2010</td>\n",
       "      <td>06/30/2013</td>\n",
       "    </tr>\n",
       "    <tr>\n",
       "      <th>4</th>\n",
       "      <td>BRAZOSPORT REGIONAL HEALTH SYSTEM</td>\n",
       "      <td>450072</td>\n",
       "      <td>TX</td>\n",
       "      <td>READM-30-HIP-KNEE-HRRP</td>\n",
       "      <td>149</td>\n",
       "      <td>NaN</td>\n",
       "      <td>1.5308</td>\n",
       "      <td>8.2</td>\n",
       "      <td>5.4</td>\n",
       "      <td>20.0</td>\n",
       "      <td>07/01/2010</td>\n",
       "      <td>06/30/2013</td>\n",
       "    </tr>\n",
       "  </tbody>\n",
       "</table>\n",
       "</div>"
      ],
      "text/plain": [
       "                               Hospital Name  Provider Number State  \\\n",
       "0       FROEDTERT MEMORIAL LUTHERAN HOSPITAL           520177    WI   \n",
       "1                        PROVIDENCE HOSPITAL            90006    DC   \n",
       "2          BEAUFORT COUNTY MEMORIAL HOSPITAL           420067    SC   \n",
       "3  ADVOCATE CHRIST HOSPITAL & MEDICAL CENTER           140208    IL   \n",
       "4          BRAZOSPORT REGIONAL HEALTH SYSTEM           450072    TX   \n",
       "\n",
       "             Measure Name  Number of Discharges  Footnote  \\\n",
       "0  READM-30-HIP-KNEE-HRRP                   242       NaN   \n",
       "1  READM-30-HIP-KNEE-HRRP                   247       NaN   \n",
       "2  READM-30-HIP-KNEE-HRRP                   586       NaN   \n",
       "3  READM-30-HIP-KNEE-HRRP                   965       NaN   \n",
       "4  READM-30-HIP-KNEE-HRRP                   149       NaN   \n",
       "\n",
       "   Excess Readmission Ratio  Predicted Readmission Rate  \\\n",
       "0                    1.9095                        10.8   \n",
       "1                    1.7521                         9.2   \n",
       "2                    1.5836                         7.6   \n",
       "3                    1.5760                         9.0   \n",
       "4                    1.5308                         8.2   \n",
       "\n",
       "   Expected Readmission Rate  Number of Readmissions  Start Date    End Date  \n",
       "0                        5.6                    38.0  07/01/2010  06/30/2013  \n",
       "1                        5.3                    33.0  07/01/2010  06/30/2013  \n",
       "2                        4.8                    53.0  07/01/2010  06/30/2013  \n",
       "3                        5.7                    95.0  07/01/2010  06/30/2013  \n",
       "4                        5.4                    20.0  07/01/2010  06/30/2013  "
      ]
     },
     "execution_count": 47,
     "metadata": {},
     "output_type": "execute_result"
    }
   ],
   "source": [
    "# deal with missing and inconvenient portions of data \n",
    "clean_hospital_read_df = hospital_read_df[hospital_read_df['Number of Discharges'] != 'Not Available']\n",
    "clean_hospital_read_df.loc[:, 'Number of Discharges'] = clean_hospital_read_df['Number of Discharges'].astype(int)\n",
    "clean_hospital_read_df.head()\n",
    "#clean_hospital_read_df = clean_hospital_read_df.sort_values('Number of Discharges')"
   ]
  },
  {
   "cell_type": "code",
   "execution_count": 48,
   "metadata": {},
   "outputs": [
    {
     "data": {
      "image/png": "[encoded data removed]",
      "text/plain": [
       "<matplotlib.figure.Figure at 0x117c0f7f0>"
      ]
     },
     "metadata": {},
     "output_type": "display_data"
    }
   ],
   "source": [
    "# generate a scatterplot for number of discharges vs. excess rate of readmissions\n",
    "# lists work better with matplotlib scatterplot function\n",
    "x = [a for a in clean_hospital_read_df['Number of Discharges'][81:-3]]\n",
    "y = list(clean_hospital_read_df['Excess Readmission Ratio'][81:-3])\n",
    "\n",
    "fig, ax = plt.subplots(figsize=(8,5))\n",
    "ax.scatter(x, y,alpha=0.2)\n",
    "\n",
    "ax.fill_between([0,350], 1.15, 2, facecolor='red', alpha = .15, interpolate=True)\n",
    "ax.fill_between([800,2500], .5, .95, facecolor='green', alpha = .15, interpolate=True)\n",
    "\n",
    "ax.set_xlim([0, max(x)])\n",
    "ax.set_xlabel('Number of discharges', fontsize=12)\n",
    "ax.set_ylabel('Excess rate of readmissions', fontsize=12)\n",
    "ax.set_title('Scatterplot of number of discharges vs. excess rate of readmissions', fontsize=14)\n",
    "\n",
    "ax.grid(True)\n",
    "fig.tight_layout()"
   ]
  },
  {
   "cell_type": "markdown",
   "metadata": {},
   "source": [
    "****\n",
    "\n",
    "## Preliminary Report\n",
    "\n",
    "Read the following results/report. While you are reading it, think about if the conclusions are correct, incorrect, misleading or unfounded. Think about what you would change or what additional analyses you would perform.\n",
    "\n",
    "**A. Initial observations based on the plot above**\n",
    "+ Overall, rate of readmissions is trending down with increasing number of discharges\n",
    "+ With lower number of discharges, there is a greater incidence of excess rate of readmissions (area shaded red)\n",
    "+ With higher number of discharges, there is a greater incidence of lower rates of readmissions (area shaded green) \n",
    "\n",
    "**B. Statistics**\n",
    "+ In hospitals/facilities with number of discharges < 100, mean excess readmission rate is 1.023 and 63% have excess readmission rate greater than 1 \n",
    "+ In hospitals/facilities with number of discharges > 1000, mean excess readmission rate is 0.978 and 44% have excess readmission rate greater than 1 \n",
    "\n",
    "**C. Conclusions**\n",
    "+ There is a significant correlation between hospital capacity (number of discharges) and readmission rates. \n",
    "+ Smaller hospitals/facilities may be lacking necessary resources to ensure quality care and prevent complications that lead to readmissions.\n",
    "\n",
    "**D. Regulatory policy recommendations**\n",
    "+ Hospitals/facilties with small capacity (< 300) should be required to demonstrate upgraded resource allocation for quality care to continue operation.\n",
    "+ Directives and incentives should be provided for consolidation of hospitals and facilities to have a smaller number of them with higher capacity and number of discharges."
   ]
  },
  {
   "cell_type": "code",
   "execution_count": null,
   "metadata": {
    "collapsed": true
   },
   "outputs": [],
   "source": [
    "****\n",
    "<div class=\"span5 alert alert-info\">\n",
    "### Exercise\n",
    "\n",
    "Include your work on the following **in this notebook and submit to your Github account**. \n",
    "\n",
    "A. Do you agree with the above analysis and recommendations? Why or why not?\n",
    "   \n",
    "B. Provide support for your arguments and your own recommendations with a statistically sound analysis:\n",
    "\n",
    "   1. Setup an appropriate hypothesis test.\n",
    "   2. Compute and report the observed significance value (or p-value).\n",
    "   3. Report statistical significance for $\\alpha$ = .01. \n",
    "   4. Discuss statistical significance and practical significance. Do they differ here? How does this change your recommendation to the client?\n",
    "   5. Look at the scatterplot above. \n",
    "      - What are the advantages and disadvantages of using this plot to convey information?\n",
    "      - Construct another plot that conveys the same information in a more direct manner.\n",
    "\n",
    "\n",
    "\n",
    "You can compose in notebook cells using Markdown: \n",
    "+ In the control panel at the top, choose Cell > Cell Type > Markdown\n",
    "+ Markdown syntax: http://nestacms.com/docs/creating-content/markdown-cheat-sheet\n",
    "</div>\n",
    "****"
   ]
  },
  {
   "cell_type": "code",
   "execution_count": 49,
   "metadata": {
    "collapsed": true
   },
   "outputs": [],
   "source": [
    "# Your turn"
   ]
  },
  {
   "cell_type": "code",
   "execution_count": 50,
   "metadata": {},
   "outputs": [
    {
     "data": {
      "text/html": [
       "<div>\n",
       "<style>\n",
       "    .dataframe thead tr:only-child th {\n",
       "        text-align: right;\n",
       "    }\n",
       "\n",
       "    .dataframe thead th {\n",
       "        text-align: left;\n",
       "    }\n",
       "\n",
       "    .dataframe tbody tr th {\n",
       "        vertical-align: top;\n",
       "    }\n",
       "</style>\n",
       "<table border=\"1\" class=\"dataframe\">\n",
       "  <thead>\n",
       "    <tr style=\"text-align: right;\">\n",
       "      <th></th>\n",
       "      <th>Hospital Name</th>\n",
       "      <th>Provider Number</th>\n",
       "      <th>State</th>\n",
       "      <th>Measure Name</th>\n",
       "      <th>Number of Discharges</th>\n",
       "      <th>Footnote</th>\n",
       "      <th>Excess Readmission Ratio</th>\n",
       "      <th>Predicted Readmission Rate</th>\n",
       "      <th>Expected Readmission Rate</th>\n",
       "      <th>Number of Readmissions</th>\n",
       "      <th>Start Date</th>\n",
       "      <th>End Date</th>\n",
       "    </tr>\n",
       "  </thead>\n",
       "  <tbody>\n",
       "    <tr>\n",
       "      <th>0</th>\n",
       "      <td>FROEDTERT MEMORIAL LUTHERAN HOSPITAL</td>\n",
       "      <td>520177</td>\n",
       "      <td>WI</td>\n",
       "      <td>READM-30-HIP-KNEE-HRRP</td>\n",
       "      <td>242</td>\n",
       "      <td>NaN</td>\n",
       "      <td>1.9095</td>\n",
       "      <td>10.8</td>\n",
       "      <td>5.6</td>\n",
       "      <td>38.0</td>\n",
       "      <td>07/01/2010</td>\n",
       "      <td>06/30/2013</td>\n",
       "    </tr>\n",
       "    <tr>\n",
       "      <th>1</th>\n",
       "      <td>PROVIDENCE HOSPITAL</td>\n",
       "      <td>90006</td>\n",
       "      <td>DC</td>\n",
       "      <td>READM-30-HIP-KNEE-HRRP</td>\n",
       "      <td>247</td>\n",
       "      <td>NaN</td>\n",
       "      <td>1.7521</td>\n",
       "      <td>9.2</td>\n",
       "      <td>5.3</td>\n",
       "      <td>33.0</td>\n",
       "      <td>07/01/2010</td>\n",
       "      <td>06/30/2013</td>\n",
       "    </tr>\n",
       "    <tr>\n",
       "      <th>2</th>\n",
       "      <td>BEAUFORT COUNTY MEMORIAL HOSPITAL</td>\n",
       "      <td>420067</td>\n",
       "      <td>SC</td>\n",
       "      <td>READM-30-HIP-KNEE-HRRP</td>\n",
       "      <td>586</td>\n",
       "      <td>NaN</td>\n",
       "      <td>1.5836</td>\n",
       "      <td>7.6</td>\n",
       "      <td>4.8</td>\n",
       "      <td>53.0</td>\n",
       "      <td>07/01/2010</td>\n",
       "      <td>06/30/2013</td>\n",
       "    </tr>\n",
       "    <tr>\n",
       "      <th>3</th>\n",
       "      <td>ADVOCATE CHRIST HOSPITAL &amp; MEDICAL CENTER</td>\n",
       "      <td>140208</td>\n",
       "      <td>IL</td>\n",
       "      <td>READM-30-HIP-KNEE-HRRP</td>\n",
       "      <td>965</td>\n",
       "      <td>NaN</td>\n",
       "      <td>1.5760</td>\n",
       "      <td>9.0</td>\n",
       "      <td>5.7</td>\n",
       "      <td>95.0</td>\n",
       "      <td>07/01/2010</td>\n",
       "      <td>06/30/2013</td>\n",
       "    </tr>\n",
       "    <tr>\n",
       "      <th>4</th>\n",
       "      <td>BRAZOSPORT REGIONAL HEALTH SYSTEM</td>\n",
       "      <td>450072</td>\n",
       "      <td>TX</td>\n",
       "      <td>READM-30-HIP-KNEE-HRRP</td>\n",
       "      <td>149</td>\n",
       "      <td>NaN</td>\n",
       "      <td>1.5308</td>\n",
       "      <td>8.2</td>\n",
       "      <td>5.4</td>\n",
       "      <td>20.0</td>\n",
       "      <td>07/01/2010</td>\n",
       "      <td>06/30/2013</td>\n",
       "    </tr>\n",
       "  </tbody>\n",
       "</table>\n",
       "</div>"
      ],
      "text/plain": [
       "                               Hospital Name  Provider Number State  \\\n",
       "0       FROEDTERT MEMORIAL LUTHERAN HOSPITAL           520177    WI   \n",
       "1                        PROVIDENCE HOSPITAL            90006    DC   \n",
       "2          BEAUFORT COUNTY MEMORIAL HOSPITAL           420067    SC   \n",
       "3  ADVOCATE CHRIST HOSPITAL & MEDICAL CENTER           140208    IL   \n",
       "4          BRAZOSPORT REGIONAL HEALTH SYSTEM           450072    TX   \n",
       "\n",
       "             Measure Name  Number of Discharges  Footnote  \\\n",
       "0  READM-30-HIP-KNEE-HRRP                   242       NaN   \n",
       "1  READM-30-HIP-KNEE-HRRP                   247       NaN   \n",
       "2  READM-30-HIP-KNEE-HRRP                   586       NaN   \n",
       "3  READM-30-HIP-KNEE-HRRP                   965       NaN   \n",
       "4  READM-30-HIP-KNEE-HRRP                   149       NaN   \n",
       "\n",
       "   Excess Readmission Ratio  Predicted Readmission Rate  \\\n",
       "0                    1.9095                        10.8   \n",
       "1                    1.7521                         9.2   \n",
       "2                    1.5836                         7.6   \n",
       "3                    1.5760                         9.0   \n",
       "4                    1.5308                         8.2   \n",
       "\n",
       "   Expected Readmission Rate  Number of Readmissions  Start Date    End Date  \n",
       "0                        5.6                    38.0  07/01/2010  06/30/2013  \n",
       "1                        5.3                    33.0  07/01/2010  06/30/2013  \n",
       "2                        4.8                    53.0  07/01/2010  06/30/2013  \n",
       "3                        5.7                    95.0  07/01/2010  06/30/2013  \n",
       "4                        5.4                    20.0  07/01/2010  06/30/2013  "
      ]
     },
     "execution_count": 50,
     "metadata": {},
     "output_type": "execute_result"
    }
   ],
   "source": [
    "clean_hospital_read_df.head()"
   ]
  },
  {
   "cell_type": "code",
   "execution_count": 51,
   "metadata": {},
   "outputs": [],
   "source": [
    "cleaner_hospital = clean_hospital_read_df.dropna(thresh=2)\n"
   ]
  },
  {
   "cell_type": "code",
   "execution_count": 52,
   "metadata": {},
   "outputs": [],
   "source": [
    "good_ratio = cleaner_hospital[cleaner_hospital['Excess Readmission Ratio'] <= 1]\n",
    "bad_ratio = cleaner_hospital[cleaner_hospital['Excess Readmission Ratio'] > 1]"
   ]
  },
  {
   "cell_type": "code",
   "execution_count": 53,
   "metadata": {},
   "outputs": [
    {
     "name": "stdout",
     "output_type": "stream",
     "text": [
      "Low ratio disharge average: 381.2952500899604    High ratio discharge average: 350.6526351237582\n"
     ]
    }
   ],
   "source": [
    "good_mean = good_ratio['Number of Discharges'].mean()\n",
    "bad_mean = bad_ratio['Number of Discharges'].mean()\n",
    "print('Low ratio disharge average:', good_mean, '   High ratio discharge average:', bad_mean)"
   ]
  },
  {
   "cell_type": "code",
   "execution_count": 54,
   "metadata": {},
   "outputs": [
    {
     "data": {
      "text/plain": [
       "Ttest_indResult(statistic=5.3241711542009593, pvalue=1.0332472818989955e-07)"
      ]
     },
     "execution_count": 54,
     "metadata": {},
     "output_type": "execute_result"
    }
   ],
   "source": [
    "good_discharges = good_ratio['Number of Discharges']\n",
    "bad_discharges = bad_ratio['Number of Discharges']\n",
    "\n",
    "from scipy import stats\n",
    "\n",
    "stats.ttest_ind(good_discharges,bad_discharges)"
   ]
  },
  {
   "cell_type": "markdown",
   "metadata": {},
   "source": [
    "We have tested the null hypothesis that the average amount of discharges between hospitals with \n",
    "a small (<=1) excess readmission ratio is the same as the average amount of discharges in the sample\n",
    "of hospitals with a high (>1) excess readmission ratio.  \n",
    "\n",
    "This test provides an extremely small P value, much smaller than .05, indicating that we can reject \n",
    "the null hypothesis.\n",
    "\n",
    "This verifies the original author' findings. Hospitals with higher excess readmissions ratios have a \n",
    "statistically significant smaller average number of discharges."
   ]
  },
  {
   "cell_type": "code",
   "execution_count": null,
   "metadata": {},
   "outputs": [],
   "source": []
  },
  {
   "cell_type": "code",
   "execution_count": null,
   "metadata": {
    "collapsed": true
   },
   "outputs": [],
   "source": []
  }
 ],
 "metadata": {
  "anaconda-cloud": {},
  "kernelspec": {
   "display_name": "Python 3",
   "language": "python",
   "name": "python3"
  },
  "language_info": {
   "codemirror_mode": {
    "name": "ipython",
    "version": 3
   },
   "file_extension": ".py",
   "mimetype": "text/x-python",
   "name": "python",
   "nbconvert_exporter": "python",
   "pygments_lexer": "ipython3",
   "version": "3.6.1"
  }
 },
 "nbformat": 4,
 "nbformat_minor": 1
}
