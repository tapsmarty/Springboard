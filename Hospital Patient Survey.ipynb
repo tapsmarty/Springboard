{
 "cells": [
  {
   "cell_type": "code",
   "execution_count": 60,
   "metadata": {
    "collapsed": true
   },
   "outputs": [],
   "source": [
    "#Hospital satisfaction"
   ]
  },
  {
   "cell_type": "code",
   "execution_count": 61,
   "metadata": {
    "collapsed": true
   },
   "outputs": [],
   "source": [
    "import pandas as pd\n",
    "df = pd.read_csv('Patient_survey__HCAHPS__-_Hospital.csv')\n",
    "import matplotlib.pyplot as plt\n",
    "import numpy as np"
   ]
  },
  {
   "cell_type": "code",
   "execution_count": 62,
   "metadata": {},
   "outputs": [
    {
     "data": {
      "text/plain": [
       "Index(['Provider ID', 'Hospital Name', 'Address', 'City', 'State', 'ZIP Code',\n",
       "       'County Name', 'Phone Number', 'HCAHPS Measure ID', 'HCAHPS Question',\n",
       "       'HCAHPS Answer Description', 'Patient Survey Star Rating',\n",
       "       'Patient Survey Star Rating Footnote', 'HCAHPS Answer Percent',\n",
       "       'HCAHPS Answer Percent Footnote', 'HCAHPS Linear Mean Value',\n",
       "       'Number of Completed Surveys', 'Number of Completed Surveys Footnote',\n",
       "       'Survey Response Rate Percent', 'Survey Response Rate Percent Footnote',\n",
       "       'Measure Start Date', 'Measure End Date', 'Location'],\n",
       "      dtype='object')"
      ]
     },
     "execution_count": 62,
     "metadata": {},
     "output_type": "execute_result"
    }
   ],
   "source": [
    "df.columns"
   ]
  },
  {
   "cell_type": "code",
   "execution_count": 63,
   "metadata": {},
   "outputs": [],
   "source": [
    "# Data is stored as a series of objects.  \n",
    "# Column names include blank spaces.  Will replace blank spaces in colun names with a '_'\n",
    "\n",
    "df.columns = df.columns.str.replace('\\s+', '_')"
   ]
  },
  {
   "cell_type": "code",
   "execution_count": 64,
   "metadata": {},
   "outputs": [],
   "source": [
    "# Creating new dataframe 'yes_rec_df' which corresponds solely to the question of whether patients\n",
    "# would recommend hospital to friends and family.  The 'HCAHPS_Answer_Percent' columns within this \n",
    "# dataframe represent the percentage of respondents who said they would recommend hospital.\n",
    "\n",
    "yes_rec_df = df[df.HCAHPS_Question == 'Patients who reported YES, they would definitely recommend the hospital']"
   ]
  },
  {
   "cell_type": "code",
   "execution_count": 68,
   "metadata": {},
   "outputs": [
    {
     "data": {
      "text/plain": [
       "4103"
      ]
     },
     "execution_count": 68,
     "metadata": {},
     "output_type": "execute_result"
    }
   ],
   "source": [
    "# Many of the HCAHPS_Aswer_Percent fields contain a a value 'Not Available'.  Those entries\n",
    "# are removed since they are not relevant and cannot be plotted.\n",
    "\n",
    "yes_rec_df = yes_rec_df[yes_rec_df.HCAHPS_Answer_Percent != 'Not Available']\n",
    "len(yes_rec_df)\n",
    "\n",
    "# len shows we have 4103 records in our list of hospitals with valid percentages to recommend quetion."
   ]
  },
  {
   "cell_type": "code",
   "execution_count": 66,
   "metadata": {},
   "outputs": [],
   "source": [
    "# In order to plot histogram of how how hopitals perforomed on recommend question, data \n",
    "# is isoltated on percentage variable and converted from object to integer.\n",
    "\n",
    "rec_percent = yes_rec_df.HCAHPS_Answer_Percent\n",
    "rec_percent = yes2.astype(int)\n"
   ]
  },
  {
   "cell_type": "code",
   "execution_count": 86,
   "metadata": {},
   "outputs": [
    {
     "data": {
      "image/png": "[encoded data removed]",
      "text/plain": [
       "<matplotlib.figure.Figure at 0x1108e3390>"
      ]
     },
     "metadata": {},
     "output_type": "display_data"
    }
   ],
   "source": [
    "# Histogram showing spread of how likely hospitals are to \n",
    "\n",
    "plt.figure(figsize=(12, 5))\n",
    "plt.hist(yes2, bins = 200)\n",
    "plt.xlabel('Percent YES Recommendations')\n",
    "plt.ylabel('Number of Hospitals')\n",
    "plt.title('How Frequently Would Patients Recommend Hospital?')\n",
    "plt.show()"
   ]
  },
  {
   "cell_type": "code",
   "execution_count": null,
   "metadata": {
    "collapsed": true
   },
   "outputs": [],
   "source": []
  }
 ],
 "metadata": {
  "kernelspec": {
   "display_name": "Python 3",
   "language": "python",
   "name": "python3"
  },
  "language_info": {
   "codemirror_mode": {
    "name": "ipython",
    "version": 3
   },
   "file_extension": ".py",
   "mimetype": "text/x-python",
   "name": "python",
   "nbconvert_exporter": "python",
   "pygments_lexer": "ipython3",
   "version": "3.6.1"
  }
 },
 "nbformat": 4,
 "nbformat_minor": 2
}
