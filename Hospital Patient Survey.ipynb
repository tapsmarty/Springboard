{
 "cells": [
  {
   "cell_type": "markdown",
   "metadata": {},
   "source": [
    "# Data Story Regarding Hospital Satification\n",
    "\n",
    "What can hospitals do to increase patient satisfaction?  \n",
    "\n",
    "This is a question with serious financial implictions to the success of every hospital in America.\n",
    "\n",
    "The HCAHPS (the Hospital Consumer Assessment of Healthcare Providers and Systems) is a patient satisfaction \n",
    "survey required by CMS (the Centers for Medicare and Medicaid Services) for all hospitals in the United States.\n",
    "\n",
    "This paper will explore the survey data of the HCAHPS to identify actionable trends for hostpials to focus upon.\n",
    "The HCAHPS includes a question regarding whether patients would reccommend the hospital to family or friends.\n",
    "The results include a positive 'YES' percentage, a nagative 'NO' percentage and a neutral percentage.\n",
    "Using survey data from this field, this paper will answer the following questions:\n",
    "    \n",
    "    1. What are the differnce in standard deviation and variance with regards to 'YES' and 'NO' answers\n",
    "    on whether a patient would recommend the hostpital to a friend.\n",
    "    \n",
    "    2. Does a scatter plot of those answering \"YES\" vs \"NO\" on the recommend hospital question reveal anything?\n",
    "    \n",
    "    3. What are next steps of analysis that could yield actionable data for hospitals?"
   ]
  },
  {
   "cell_type": "code",
   "execution_count": 239,
   "metadata": {
    "collapsed": true
   },
   "outputs": [],
   "source": [
    "import pandas as pd\n",
    "df = pd.read_csv('Patient_survey__HCAHPS__-_Hospital.csv')\n",
    "import matplotlib.pyplot as plt\n",
    "import numpy as np"
   ]
  },
  {
   "cell_type": "code",
   "execution_count": 240,
   "metadata": {},
   "outputs": [
    {
     "data": {
      "text/plain": [
       "Index(['Provider ID', 'Hospital Name', 'Address', 'City', 'State', 'ZIP Code',\n",
       "       'County Name', 'Phone Number', 'HCAHPS Measure ID', 'HCAHPS Question',\n",
       "       'HCAHPS Answer Description', 'Patient Survey Star Rating',\n",
       "       'Patient Survey Star Rating Footnote', 'HCAHPS Answer Percent',\n",
       "       'HCAHPS Answer Percent Footnote', 'HCAHPS Linear Mean Value',\n",
       "       'Number of Completed Surveys', 'Number of Completed Surveys Footnote',\n",
       "       'Survey Response Rate Percent', 'Survey Response Rate Percent Footnote',\n",
       "       'Measure Start Date', 'Measure End Date', 'Location'],\n",
       "      dtype='object')"
      ]
     },
     "execution_count": 240,
     "metadata": {},
     "output_type": "execute_result"
    }
   ],
   "source": [
    "df.columns"
   ]
  },
  {
   "cell_type": "code",
   "execution_count": 241,
   "metadata": {},
   "outputs": [],
   "source": [
    "# Data is stored as a series of objects.  \n",
    "# Column names include blank spaces.  Will replace blank spaces in colun names with a '_'\n",
    "\n",
    "df.columns = df.columns.str.replace('\\s+', '_')"
   ]
  },
  {
   "cell_type": "code",
   "execution_count": 242,
   "metadata": {},
   "outputs": [],
   "source": [
    "# Creating new dataframe 'yes_rec_df' which corresponds solely to the question of whether patients\n",
    "# would recommend hospital to friends and family.  The 'HCAHPS_Answer_Percent' columns within this \n",
    "# dataframe represent the percentage of respondents who said they would recommend hospital.\n",
    "\n",
    "yes_rec_df = df[df.HCAHPS_Question == 'Patients who reported YES, they would definitely recommend the hospital']\n"
   ]
  },
  {
   "cell_type": "code",
   "execution_count": 243,
   "metadata": {},
   "outputs": [
    {
     "data": {
      "text/plain": [
       "4103"
      ]
     },
     "execution_count": 243,
     "metadata": {},
     "output_type": "execute_result"
    }
   ],
   "source": [
    "# Many of the HCAHPS_Aswer_Percent fields contain a a value 'Not Available'.  Those entries\n",
    "# are removed since they are not relevant and cannot be plotted.\n",
    "\n",
    "yes_rec_df = yes_rec_df[yes_rec_df.HCAHPS_Answer_Percent != 'Not Available']\n",
    "len(yes_rec_df)\n",
    "\n",
    "# len shows we have 4103 records in our list of hospitals with valid percentages to recommend quetion."
   ]
  },
  {
   "cell_type": "code",
   "execution_count": 244,
   "metadata": {},
   "outputs": [],
   "source": [
    "# In order to plot histogram of how how hopitals perforomed on recommend question, data \n",
    "# is isoltated on percentage variable and converted from object to integer.\n",
    "\n",
    "\n",
    "rec_percent = yes_rec_df.HCAHPS_Answer_Percent\n",
    "yes_int = rec_percent.astype(int)\n"
   ]
  },
  {
   "cell_type": "code",
   "execution_count": 245,
   "metadata": {},
   "outputs": [
    {
     "data": {
      "image/png": "[encoded data removed]",
      "text/plain": [
       "<matplotlib.figure.Figure at 0x11a046518>"
      ]
     },
     "metadata": {},
     "output_type": "display_data"
    }
   ],
   "source": [
    "# Histogram showing spread of how likely pateitns are to recommend hospital to family and friends\n",
    "\n",
    "plt.figure(figsize=(16, 6))\n",
    "plt.hist(yes_int, bins = 250)\n",
    "plt.xlabel('Percent Definitely Would Recommend')\n",
    "plt.ylabel('Number of Hospitals')\n",
    "plt.title('How Frequently Would Patients DEFINITELY Recommend Hospital?')\n",
    "plt.show()"
   ]
  },
  {
   "cell_type": "code",
   "execution_count": 246,
   "metadata": {},
   "outputs": [
    {
     "name": "stdout",
     "output_type": "stream",
     "text": [
      "Mean -  71.8125761637826\n",
      "Standard Deviation -  9.549083739335211\n",
      "Variance -  91.18500026083613\n"
     ]
    }
   ],
   "source": [
    "# Check mean and standard deviation of YES recommendations\n",
    "\n",
    "print('Mean - ', yes_int.mean())\n",
    "print('Standard Deviation - ', yes_int.std())\n",
    "print('Variance - ', yes_int.var())"
   ]
  },
  {
   "cell_type": "code",
   "execution_count": 247,
   "metadata": {},
   "outputs": [
    {
     "ename": "SyntaxError",
     "evalue": "invalid syntax (<ipython-input-247-52b610ab06d6>, line 5)",
     "output_type": "error",
     "traceback": [
      "\u001b[0;36m  File \u001b[0;32m\"<ipython-input-247-52b610ab06d6>\"\u001b[0;36m, line \u001b[0;32m5\u001b[0m\n\u001b[0;31m    len(no_rec_df)Available']\u001b[0m\n\u001b[0m                          ^\u001b[0m\n\u001b[0;31mSyntaxError\u001b[0m\u001b[0;31m:\u001b[0m invalid syntax\n"
     ]
    }
   ],
   "source": [
    "# Doing same thing with 'would not recommend' answers\n",
    "\n",
    "no_rec_df = df[df.HCAHPS_Question == 'Patients who reported NO, they would probably not or definitely not recommend the hospital']\n",
    "no_rec_df = no_rec_df[no_rec_df.HCAHPS_Answer_Percent != 'Not Available']\n",
    "len(no_rec_df)Available']\n",
    "\n",
    "# 4103 hospitals contain 'no' percentage data, same as with 'yes' data from above"
   ]
  },
  {
   "cell_type": "code",
   "execution_count": null,
   "metadata": {},
   "outputs": [],
   "source": [
    "# Generate histogram showing percent of patients who would not recommend hospital\n",
    "\n",
    "no_rec_percent = no_rec_df.HCAHPS_Answer_Percent\n",
    "no_int = no_rec_percent.astype(int)\n",
    "\n",
    "plt.figure(figsize=(16, 6))\n",
    "plt.hist(no_int, bins = 30)\n",
    "plt.xlabel('Percent Would Not Recommend')\n",
    "plt.ylabel('Number of Hospitals')\n",
    "plt.title('How Frequently Would Patients NOT Recommend Hospital?')\n",
    "plt.show()"
   ]
  },
  {
   "cell_type": "code",
   "execution_count": null,
   "metadata": {},
   "outputs": [],
   "source": [
    "# Check mean and standard deviation of NO recommendations\n",
    "\n",
    "print('Mean - ', no_int.mean())\n",
    "print('Standard Deviation - ', no_int.std())\n",
    "print('Variance - ', no_int.var())"
   ]
  },
  {
   "cell_type": "code",
   "execution_count": 248,
   "metadata": {
    "collapsed": true
   },
   "outputs": [],
   "source": [
    "# Hospitals that receive > 10% of patient responses who would not recommend hospital are receiving more than\n",
    "# twice as many of these nagative ratings as average, and are outside the standard deviation.\n",
    "\n",
    "# It will be interesting to see correalations between those hospitals receiving unusally high NO\n",
    "# recommendations and other survey data to determine if certain factors are more likey than others to \n",
    "# result in hospitals receiving low recommendation rankings.\n"
   ]
  },
  {
   "cell_type": "code",
   "execution_count": 249,
   "metadata": {},
   "outputs": [
    {
     "data": {
      "image/png": "[encoded data removed]",
      "text/plain": [
       "<matplotlib.figure.Figure at 0x11134c7f0>"
      ]
     },
     "metadata": {},
     "output_type": "display_data"
    }
   ],
   "source": [
    "# We will explore scatter plot of 'YES' vs 'NO' answers to determine anomolies in data\n",
    "\n",
    "plt.figure(figsize=(16, 6))\n",
    "plt.scatter(x = yes_int, y = no_int)\n",
    "plt.xlabel('Percent Would Recommend')\n",
    "plt.ylabel('Percent Would NOT Recommend')\n",
    "plt.title('Scatter Plot of Percent YES vs NO on Recommend')\n",
    "plt.show()"
   ]
  },
  {
   "cell_type": "code",
   "execution_count": 250,
   "metadata": {},
   "outputs": [
    {
     "ename": "SyntaxError",
     "evalue": "invalid syntax (<ipython-input-250-39b603e1184b>, line 1)",
     "output_type": "error",
     "traceback": [
      "\u001b[0;36m  File \u001b[0;32m\"<ipython-input-250-39b603e1184b>\"\u001b[0;36m, line \u001b[0;32m1\u001b[0m\n\u001b[0;31m    Conclusions:\u001b[0m\n\u001b[0m                ^\u001b[0m\n\u001b[0;31mSyntaxError\u001b[0m\u001b[0;31m:\u001b[0m invalid syntax\n"
     ]
    }
   ],
   "source": [
    "Conclusions:\n",
    "    \n",
    "Overall, the mean, variance and stadard deviation are higher in the 'YES' sample than in the 'NO' sample.\n",
    "While the 'NO' sample is clustered in a smaller range overall, it appears that the outliers in the 'NO'\n",
    "sample form a longer tail and it may be more useful for future analysis.\n",
    "\n",
    "The scatter plot suggests that there is limited correlation between hospitals receiving 'YES' answers and \n",
    "hospitals receiving 'NO' answers with regards to likelyhood of recommendations.  Hospitals receiving an unsually\n",
    "high number of 'NO' recommendations appear pretty evenly distributed among how likely they are to receive 'YES'\n",
    "recommendations.\n",
    "\n",
    "Next Steps:\n",
    "    \n",
    "Next we will analyze other factors of the survey and correlate them to 'YES/NO' recommendations."
   ]
  },
  {
   "cell_type": "code",
   "execution_count": 251,
   "metadata": {},
   "outputs": [
    {
     "data": {
      "text/plain": [
       "3505"
      ]
     },
     "execution_count": 251,
     "metadata": {},
     "output_type": "execute_result"
    }
   ],
   "source": [
    "# Staff Resposiveness overall (linear mean score) analysis\n",
    "\n",
    "staff_response_linear = df[df.HCAHPS_Question == 'Staff responsiveness - linear mean score']\n",
    "staff_response_linear = staff_response_linear[staff_response_linear.HCAHPS_Linear_Mean_Value != 'Not Available']\n",
    "staff_response_linear = staff_response_linear[staff_response_linear.HCAHPS_Linear_Mean_Value != 'Not Applicable']\n",
    "len(staff_response_linear)"
   ]
  },
  {
   "cell_type": "code",
   "execution_count": 252,
   "metadata": {},
   "outputs": [
    {
     "data": {
      "image/png": "[encoded data removed]",
      "text/plain": [
       "<matplotlib.figure.Figure at 0x110be7780>"
      ]
     },
     "metadata": {},
     "output_type": "display_data"
    }
   ],
   "source": [
    "staff_response_linear_percent = staff_response_linear.HCAHPS_Linear_Mean_Value\n",
    "srlp_int = staff_response_linear_percent.astype(int)\n",
    "\n",
    "plt.figure(figsize=(16, 6))\n",
    "plt.hist(srlp_int, bins = 40)\n",
    "plt.xlabel('Staff Responsiveness Linear Value')\n",
    "plt.ylabel('Number of Hospitals')\n",
    "plt.title('Staff Responsiveness Overall Linear Value')\n",
    "plt.show()"
   ]
  },
  {
   "cell_type": "code",
   "execution_count": null,
   "metadata": {},
   "outputs": [],
   "source": [
    "# ... To be continued ..\n",
    "    "
   ]
  },
  {
   "cell_type": "code",
   "execution_count": null,
   "metadata": {
    "collapsed": true
   },
   "outputs": [],
   "source": []
  },
  {
   "cell_type": "code",
   "execution_count": null,
   "metadata": {
    "collapsed": true
   },
   "outputs": [],
   "source": []
  },
  {
   "cell_type": "code",
   "execution_count": null,
   "metadata": {},
   "outputs": [],
   "source": []
  },
  {
   "cell_type": "code",
   "execution_count": null,
   "metadata": {
    "collapsed": true
   },
   "outputs": [],
   "source": []
  }
 ],
 "metadata": {
  "kernelspec": {
   "display_name": "Python 3",
   "language": "python",
   "name": "python3"
  },
  "language_info": {
   "codemirror_mode": {
    "name": "ipython",
    "version": 3
   },
   "file_extension": ".py",
   "mimetype": "text/x-python",
   "name": "python",
   "nbconvert_exporter": "python",
   "pygments_lexer": "ipython3",
   "version": "3.6.1"
  }
 },
 "nbformat": 4,
 "nbformat_minor": 2
}
